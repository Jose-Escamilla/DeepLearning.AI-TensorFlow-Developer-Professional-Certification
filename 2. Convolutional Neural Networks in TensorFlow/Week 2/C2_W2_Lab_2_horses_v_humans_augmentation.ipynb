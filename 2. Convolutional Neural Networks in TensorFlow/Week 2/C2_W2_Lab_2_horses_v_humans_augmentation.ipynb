{
  "nbformat": 4,
  "nbformat_minor": 0,
  "metadata": {
    "accelerator": "GPU",
    "colab": {
      "name": "C2_W2_Lab_2_horses_v_humans_augmentation.ipynb",
      "provenance": [],
      "collapsed_sections": []
    },
    "kernelspec": {
      "display_name": "Python 3",
      "language": "python",
      "name": "python3"
    },
    "language_info": {
      "codemirror_mode": {
        "name": "ipython",
        "version": 3
      },
      "file_extension": ".py",
      "mimetype": "text/x-python",
      "name": "python",
      "nbconvert_exporter": "python",
      "pygments_lexer": "ipython3",
      "version": "3.8.5"
    }
  },
  "cells": [
    {
      "cell_type": "markdown",
      "metadata": {
        "id": "rX8mhOLljYeM"
      },
      "source": [
        "##### Copyright 2019 The TensorFlow Authors."
      ]
    },
    {
      "cell_type": "code",
      "metadata": {
        "cellView": "form",
        "id": "BZSlp3DAjdYf"
      },
      "source": [
        "#@title Licensed under the Apache License, Version 2.0 (the \"License\");\n",
        "# you may not use this file except in compliance with the License.\n",
        "# You may obtain a copy of the License at\n",
        "#\n",
        "# https://www.apache.org/licenses/LICENSE-2.0\n",
        "#\n",
        "# Unless required by applicable law or agreed to in writing, software\n",
        "# distributed under the License is distributed on an \"AS IS\" BASIS,\n",
        "# WITHOUT WARRANTIES OR CONDITIONS OF ANY KIND, either express or implied.\n",
        "# See the License for the specific language governing permissions and\n",
        "# limitations under the License."
      ],
      "execution_count": null,
      "outputs": []
    },
    {
      "cell_type": "code",
      "metadata": {
        "id": "RXZT2UsyIVe_",
        "outputId": "05881001-12a5-4276-da91-94fbd7a6795e",
        "colab": {
          "base_uri": "https://localhost:8080/"
        }
      },
      "source": [
        "# horses-or-humans dataset\n",
        "!gdown --id 1onaG42NZft3wCE1WH0GDEbUhu75fedP5\n",
        "\n",
        "# horses-or-humans validation dataset\n",
        "!gdown --id 1LYeusSEIiZQpwN-mthh5nKdA75VsKG1U\n",
        "  \n",
        "import os\n",
        "import zipfile\n",
        "\n",
        "zip_ref = zipfile.ZipFile('./horse-or-human.zip', 'r')\n",
        "zip_ref.extractall('tmp/horse-or-human')\n",
        "\n",
        "zip_ref = zipfile.ZipFile('./validation-horse-or-human.zip', 'r')\n",
        "zip_ref.extractall('tmp/validation-horse-or-human')\n",
        "\n",
        "zip_ref.close()\n",
        "\n",
        "# Directory with our training horse pictures\n",
        "train_horse_dir = os.path.join('tmp/horse-or-human/horses')\n",
        "\n",
        "# Directory with our training human pictures\n",
        "train_human_dir = os.path.join('tmp/horse-or-human/humans')\n",
        "\n",
        "# Directory with our training horse pictures\n",
        "validation_horse_dir = os.path.join('tmp/validation-horse-or-human/horses')\n",
        "\n",
        "# Directory with our training human pictures\n",
        "validation_human_dir = os.path.join('tmp/validation-horse-or-human/humans')"
      ],
      "execution_count": 1,
      "outputs": [
        {
          "output_type": "stream",
          "name": "stdout",
          "text": [
            "Downloading...\n",
            "From: https://drive.google.com/uc?id=1onaG42NZft3wCE1WH0GDEbUhu75fedP5\n",
            "To: /content/horse-or-human.zip\n",
            "100% 150M/150M [00:01<00:00, 138MB/s]\n",
            "Downloading...\n",
            "From: https://drive.google.com/uc?id=1LYeusSEIiZQpwN-mthh5nKdA75VsKG1U\n",
            "To: /content/validation-horse-or-human.zip\n",
            "100% 11.5M/11.5M [00:00<00:00, 113MB/s]\n"
          ]
        }
      ]
    },
    {
      "cell_type": "markdown",
      "metadata": {
        "id": "5oqBkNBJmtUv"
      },
      "source": [
        "## Building a Small Model from Scratch\n",
        "\n",
        "But before we continue, let's start defining the model:\n",
        "\n",
        "Step 1 will be to import tensorflow."
      ]
    },
    {
      "cell_type": "code",
      "metadata": {
        "id": "qvfZg3LQbD-5"
      },
      "source": [
        "import tensorflow as tf"
      ],
      "execution_count": 2,
      "outputs": []
    },
    {
      "cell_type": "markdown",
      "metadata": {
        "id": "BnhYCP4tdqjC"
      },
      "source": [
        "We then add convolutional layers as in the previous example, and flatten the final result to feed into the densely connected layers."
      ]
    },
    {
      "cell_type": "markdown",
      "metadata": {
        "id": "gokG5HKpdtzm"
      },
      "source": [
        "Finally we add the densely connected layers. \n",
        "\n",
        "Note that because we are facing a two-class classification problem, i.e. a *binary classification problem*, we will end our network with a [*sigmoid* activation](https://wikipedia.org/wiki/Sigmoid_function), so that the output of our network will be a single scalar between 0 and 1, encoding the probability that the current image is class 1 (as opposed to class 0)."
      ]
    },
    {
      "cell_type": "code",
      "metadata": {
        "id": "PixZ2s5QbYQ3"
      },
      "source": [
        "model = tf.keras.models.Sequential([\n",
        "    # Note the input shape is the desired size of the image 300x300 with 3 bytes color\n",
        "    # This is the first convolution\n",
        "    tf.keras.layers.Conv2D(16, (3,3), activation='relu', input_shape=(300, 300, 3)),\n",
        "    tf.keras.layers.MaxPooling2D(2, 2),\n",
        "    # The second convolution\n",
        "    tf.keras.layers.Conv2D(32, (3,3), activation='relu'),\n",
        "    tf.keras.layers.MaxPooling2D(2,2),\n",
        "    # The third convolution\n",
        "    tf.keras.layers.Conv2D(64, (3,3), activation='relu'),\n",
        "    tf.keras.layers.MaxPooling2D(2,2),\n",
        "    # The fourth convolution\n",
        "    tf.keras.layers.Conv2D(64, (3,3), activation='relu'),\n",
        "    tf.keras.layers.MaxPooling2D(2,2),\n",
        "    # The fifth convolution\n",
        "    tf.keras.layers.Conv2D(64, (3,3), activation='relu'),\n",
        "    tf.keras.layers.MaxPooling2D(2,2),\n",
        "    # Flatten the results to feed into a DNN\n",
        "    tf.keras.layers.Flatten(),\n",
        "    # 512 neuron hidden layer\n",
        "    tf.keras.layers.Dense(512, activation='relu'),\n",
        "    # Only 1 output neuron. It will contain a value from 0-1 where 0 for 1 class ('horses') and 1 for the other ('humans')\n",
        "    tf.keras.layers.Dense(1, activation='sigmoid')\n",
        "])"
      ],
      "execution_count": 3,
      "outputs": []
    },
    {
      "cell_type": "code",
      "metadata": {
        "id": "8DHWhFP_uhq3"
      },
      "source": [
        "from tensorflow.keras.optimizers import RMSprop\n",
        "\n",
        "model.compile(loss='binary_crossentropy',\n",
        "              optimizer=RMSprop(learning_rate=1e-4),\n",
        "              metrics=['accuracy'])"
      ],
      "execution_count": 4,
      "outputs": []
    },
    {
      "cell_type": "code",
      "metadata": {
        "id": "ClebU9NJg99G",
        "outputId": "88cf5a19-9748-479b-8c0d-fa82ce8429ea",
        "colab": {
          "base_uri": "https://localhost:8080/"
        }
      },
      "source": [
        "from tensorflow.keras.preprocessing.image import ImageDataGenerator\n",
        "\n",
        "# All images will be rescaled by 1./255\n",
        "train_datagen = ImageDataGenerator(\n",
        "      rescale=1./255,\n",
        "      rotation_range=40,\n",
        "      width_shift_range=0.2,\n",
        "      height_shift_range=0.2,\n",
        "      shear_range=0.2,\n",
        "      zoom_range=0.2,\n",
        "      horizontal_flip=True,\n",
        "      fill_mode='nearest')\n",
        "\n",
        "validation_datagen = ImageDataGenerator(rescale=1/255)\n",
        "\n",
        "# Flow training images in batches of 128 using train_datagen generator\n",
        "train_generator = train_datagen.flow_from_directory(\n",
        "        'tmp/horse-or-human/',  # This is the source directory for training images\n",
        "        target_size=(300, 300),  # All images will be resized to 150x150\n",
        "        batch_size=128,\n",
        "        # Since we use binary_crossentropy loss, we need binary labels\n",
        "        class_mode='binary')\n",
        "\n",
        "# Flow training images in batches of 128 using train_datagen generator\n",
        "validation_generator = validation_datagen.flow_from_directory(\n",
        "        'tmp/validation-horse-or-human/',  # This is the source directory for training images\n",
        "        target_size=(300, 300),  # All images will be resized to 150x150\n",
        "        batch_size=32,\n",
        "        # Since we use binary_crossentropy loss, we need binary labels\n",
        "        class_mode='binary')"
      ],
      "execution_count": 5,
      "outputs": [
        {
          "output_type": "stream",
          "name": "stdout",
          "text": [
            "Found 1027 images belonging to 2 classes.\n",
            "Found 256 images belonging to 2 classes.\n"
          ]
        }
      ]
    },
    {
      "cell_type": "code",
      "metadata": {
        "id": "Fb1_lgobv81m",
        "outputId": "f8493db3-a158-4778-cc32-de274c9949f3",
        "colab": {
          "base_uri": "https://localhost:8080/"
        }
      },
      "source": [
        "history = model.fit(\n",
        "      train_generator,\n",
        "      steps_per_epoch=8,  \n",
        "      epochs=100,\n",
        "      verbose=1,\n",
        "      validation_data = validation_generator,\n",
        "      validation_steps=8)"
      ],
      "execution_count": 6,
      "outputs": [
        {
          "output_type": "stream",
          "name": "stdout",
          "text": [
            "Epoch 1/100\n",
            "8/8 [==============================] - 38s 3s/step - loss: 0.6861 - accuracy: 0.5518 - val_loss: 0.6658 - val_accuracy: 0.5352\n",
            "Epoch 2/100\n",
            "8/8 [==============================] - 25s 3s/step - loss: 0.6739 - accuracy: 0.6396 - val_loss: 0.6330 - val_accuracy: 0.5547\n",
            "Epoch 3/100\n",
            "8/8 [==============================] - 25s 3s/step - loss: 0.6598 - accuracy: 0.6118 - val_loss: 0.5642 - val_accuracy: 0.8047\n",
            "Epoch 4/100\n",
            "8/8 [==============================] - 25s 3s/step - loss: 0.6493 - accuracy: 0.6618 - val_loss: 0.5771 - val_accuracy: 0.6523\n",
            "Epoch 5/100\n",
            "8/8 [==============================] - 25s 3s/step - loss: 0.6144 - accuracy: 0.7141 - val_loss: 0.5443 - val_accuracy: 0.7305\n",
            "Epoch 6/100\n",
            "8/8 [==============================] - 25s 3s/step - loss: 0.5795 - accuracy: 0.7419 - val_loss: 0.6003 - val_accuracy: 0.6367\n",
            "Epoch 7/100\n",
            "8/8 [==============================] - 24s 3s/step - loss: 0.5697 - accuracy: 0.7264 - val_loss: 0.8216 - val_accuracy: 0.5391\n",
            "Epoch 8/100\n",
            "8/8 [==============================] - 24s 3s/step - loss: 0.5388 - accuracy: 0.7475 - val_loss: 0.6035 - val_accuracy: 0.6875\n",
            "Epoch 9/100\n",
            "8/8 [==============================] - 24s 3s/step - loss: 0.4929 - accuracy: 0.7786 - val_loss: 0.7947 - val_accuracy: 0.6094\n",
            "Epoch 10/100\n",
            "8/8 [==============================] - 24s 3s/step - loss: 0.5423 - accuracy: 0.7264 - val_loss: 0.6994 - val_accuracy: 0.6680\n",
            "Epoch 11/100\n",
            "8/8 [==============================] - 24s 3s/step - loss: 0.4962 - accuracy: 0.7575 - val_loss: 0.6901 - val_accuracy: 0.6797\n",
            "Epoch 12/100\n",
            "8/8 [==============================] - 24s 3s/step - loss: 0.4599 - accuracy: 0.7909 - val_loss: 0.7799 - val_accuracy: 0.6562\n",
            "Epoch 13/100\n",
            "8/8 [==============================] - 24s 3s/step - loss: 0.4656 - accuracy: 0.7742 - val_loss: 1.0637 - val_accuracy: 0.5820\n",
            "Epoch 14/100\n",
            "8/8 [==============================] - 24s 3s/step - loss: 0.5471 - accuracy: 0.7319 - val_loss: 0.6955 - val_accuracy: 0.6875\n",
            "Epoch 15/100\n",
            "8/8 [==============================] - 24s 3s/step - loss: 0.4764 - accuracy: 0.7686 - val_loss: 0.8675 - val_accuracy: 0.6523\n",
            "Epoch 16/100\n",
            "8/8 [==============================] - 24s 3s/step - loss: 0.4687 - accuracy: 0.7898 - val_loss: 0.8727 - val_accuracy: 0.6641\n",
            "Epoch 17/100\n",
            "8/8 [==============================] - 24s 3s/step - loss: 0.4406 - accuracy: 0.8042 - val_loss: 0.5505 - val_accuracy: 0.7812\n",
            "Epoch 18/100\n",
            "8/8 [==============================] - 24s 3s/step - loss: 0.4932 - accuracy: 0.7686 - val_loss: 0.8967 - val_accuracy: 0.6719\n",
            "Epoch 19/100\n",
            "8/8 [==============================] - 25s 3s/step - loss: 0.4041 - accuracy: 0.8320 - val_loss: 1.1471 - val_accuracy: 0.6445\n",
            "Epoch 20/100\n",
            "8/8 [==============================] - 25s 3s/step - loss: 0.4890 - accuracy: 0.8053 - val_loss: 1.2917 - val_accuracy: 0.6016\n",
            "Epoch 21/100\n",
            "8/8 [==============================] - 25s 3s/step - loss: 0.3915 - accuracy: 0.8309 - val_loss: 1.1991 - val_accuracy: 0.6172\n",
            "Epoch 22/100\n",
            "8/8 [==============================] - 28s 3s/step - loss: 0.3888 - accuracy: 0.8174 - val_loss: 0.8325 - val_accuracy: 0.6953\n",
            "Epoch 23/100\n",
            "8/8 [==============================] - 25s 3s/step - loss: 0.4082 - accuracy: 0.8198 - val_loss: 1.0156 - val_accuracy: 0.6680\n",
            "Epoch 24/100\n",
            "8/8 [==============================] - 24s 3s/step - loss: 0.3864 - accuracy: 0.8365 - val_loss: 0.7732 - val_accuracy: 0.7344\n",
            "Epoch 25/100\n",
            "8/8 [==============================] - 24s 3s/step - loss: 0.3690 - accuracy: 0.8231 - val_loss: 1.2088 - val_accuracy: 0.6484\n",
            "Epoch 26/100\n",
            "8/8 [==============================] - 24s 3s/step - loss: 0.4332 - accuracy: 0.8343 - val_loss: 1.3723 - val_accuracy: 0.6094\n",
            "Epoch 27/100\n",
            "8/8 [==============================] - 24s 3s/step - loss: 0.3577 - accuracy: 0.8376 - val_loss: 1.3322 - val_accuracy: 0.6328\n",
            "Epoch 28/100\n",
            "8/8 [==============================] - 24s 3s/step - loss: 0.3572 - accuracy: 0.8487 - val_loss: 1.2675 - val_accuracy: 0.6406\n",
            "Epoch 29/100\n",
            "8/8 [==============================] - 27s 3s/step - loss: 0.3138 - accuracy: 0.8584 - val_loss: 1.3982 - val_accuracy: 0.6406\n",
            "Epoch 30/100\n",
            "8/8 [==============================] - 24s 3s/step - loss: 0.3707 - accuracy: 0.8209 - val_loss: 1.7483 - val_accuracy: 0.5781\n",
            "Epoch 31/100\n",
            "8/8 [==============================] - 25s 3s/step - loss: 0.3124 - accuracy: 0.8732 - val_loss: 1.1523 - val_accuracy: 0.6914\n",
            "Epoch 32/100\n",
            "8/8 [==============================] - 28s 3s/step - loss: 0.3461 - accuracy: 0.8418 - val_loss: 1.5818 - val_accuracy: 0.6094\n",
            "Epoch 33/100\n",
            "8/8 [==============================] - 25s 3s/step - loss: 0.3272 - accuracy: 0.8598 - val_loss: 1.0138 - val_accuracy: 0.6953\n",
            "Epoch 34/100\n",
            "8/8 [==============================] - 25s 3s/step - loss: 0.3276 - accuracy: 0.8554 - val_loss: 1.6490 - val_accuracy: 0.6055\n",
            "Epoch 35/100\n",
            "8/8 [==============================] - 25s 3s/step - loss: 0.3035 - accuracy: 0.8710 - val_loss: 1.1669 - val_accuracy: 0.6953\n",
            "Epoch 36/100\n",
            "8/8 [==============================] - 24s 3s/step - loss: 0.3141 - accuracy: 0.8654 - val_loss: 1.2206 - val_accuracy: 0.6836\n",
            "Epoch 37/100\n",
            "8/8 [==============================] - 24s 3s/step - loss: 0.2790 - accuracy: 0.8843 - val_loss: 1.2999 - val_accuracy: 0.6758\n",
            "Epoch 38/100\n",
            "8/8 [==============================] - 24s 3s/step - loss: 0.2787 - accuracy: 0.8821 - val_loss: 1.1102 - val_accuracy: 0.7109\n",
            "Epoch 39/100\n",
            "8/8 [==============================] - 24s 3s/step - loss: 0.2992 - accuracy: 0.8643 - val_loss: 1.6799 - val_accuracy: 0.6211\n",
            "Epoch 40/100\n",
            "8/8 [==============================] - 25s 4s/step - loss: 0.2496 - accuracy: 0.9021 - val_loss: 1.6691 - val_accuracy: 0.6719\n",
            "Epoch 41/100\n",
            "8/8 [==============================] - 25s 3s/step - loss: 0.3105 - accuracy: 0.8632 - val_loss: 1.3071 - val_accuracy: 0.6875\n",
            "Epoch 42/100\n",
            "8/8 [==============================] - 24s 3s/step - loss: 0.2726 - accuracy: 0.8821 - val_loss: 2.2694 - val_accuracy: 0.5898\n",
            "Epoch 43/100\n",
            "8/8 [==============================] - 24s 3s/step - loss: 0.2820 - accuracy: 0.8676 - val_loss: 1.3004 - val_accuracy: 0.6953\n",
            "Epoch 44/100\n",
            "8/8 [==============================] - 24s 3s/step - loss: 0.2869 - accuracy: 0.8743 - val_loss: 1.5995 - val_accuracy: 0.6602\n",
            "Epoch 45/100\n",
            "8/8 [==============================] - 25s 3s/step - loss: 0.2395 - accuracy: 0.9155 - val_loss: 2.1318 - val_accuracy: 0.5977\n",
            "Epoch 46/100\n",
            "8/8 [==============================] - 25s 3s/step - loss: 0.2471 - accuracy: 0.9132 - val_loss: 1.9549 - val_accuracy: 0.6367\n",
            "Epoch 47/100\n",
            "8/8 [==============================] - 25s 3s/step - loss: 0.3076 - accuracy: 0.8832 - val_loss: 1.8086 - val_accuracy: 0.6484\n",
            "Epoch 48/100\n",
            "8/8 [==============================] - 25s 3s/step - loss: 0.2384 - accuracy: 0.9155 - val_loss: 1.4435 - val_accuracy: 0.6797\n",
            "Epoch 49/100\n",
            "8/8 [==============================] - 24s 3s/step - loss: 0.2926 - accuracy: 0.8776 - val_loss: 1.4465 - val_accuracy: 0.6758\n",
            "Epoch 50/100\n",
            "8/8 [==============================] - 24s 3s/step - loss: 0.2202 - accuracy: 0.9177 - val_loss: 2.1425 - val_accuracy: 0.6367\n",
            "Epoch 51/100\n",
            "8/8 [==============================] - 24s 3s/step - loss: 0.2427 - accuracy: 0.9143 - val_loss: 1.7619 - val_accuracy: 0.6680\n",
            "Epoch 52/100\n",
            "8/8 [==============================] - 24s 3s/step - loss: 0.1951 - accuracy: 0.9299 - val_loss: 1.6914 - val_accuracy: 0.6758\n",
            "Epoch 53/100\n",
            "8/8 [==============================] - 24s 3s/step - loss: 0.2804 - accuracy: 0.8854 - val_loss: 1.6775 - val_accuracy: 0.6797\n",
            "Epoch 54/100\n",
            "8/8 [==============================] - 24s 3s/step - loss: 0.2334 - accuracy: 0.9055 - val_loss: 2.0246 - val_accuracy: 0.6562\n",
            "Epoch 55/100\n",
            "8/8 [==============================] - 24s 3s/step - loss: 0.1775 - accuracy: 0.9321 - val_loss: 3.5264 - val_accuracy: 0.5312\n",
            "Epoch 56/100\n",
            "8/8 [==============================] - 24s 3s/step - loss: 0.2500 - accuracy: 0.8954 - val_loss: 1.9751 - val_accuracy: 0.6602\n",
            "Epoch 57/100\n",
            "8/8 [==============================] - 24s 3s/step - loss: 0.1719 - accuracy: 0.9288 - val_loss: 2.2913 - val_accuracy: 0.6602\n",
            "Epoch 58/100\n",
            "8/8 [==============================] - 24s 3s/step - loss: 0.1740 - accuracy: 0.9333 - val_loss: 2.9172 - val_accuracy: 0.6094\n",
            "Epoch 59/100\n",
            "8/8 [==============================] - 25s 3s/step - loss: 0.2273 - accuracy: 0.9099 - val_loss: 2.2428 - val_accuracy: 0.6562\n",
            "Epoch 60/100\n",
            "8/8 [==============================] - 24s 3s/step - loss: 0.1770 - accuracy: 0.9422 - val_loss: 1.5827 - val_accuracy: 0.6953\n",
            "Epoch 61/100\n",
            "8/8 [==============================] - 24s 3s/step - loss: 0.1843 - accuracy: 0.9344 - val_loss: 2.0646 - val_accuracy: 0.6680\n",
            "Epoch 62/100\n",
            "8/8 [==============================] - 25s 3s/step - loss: 0.1880 - accuracy: 0.9232 - val_loss: 1.5710 - val_accuracy: 0.6953\n",
            "Epoch 63/100\n",
            "8/8 [==============================] - 25s 3s/step - loss: 0.1974 - accuracy: 0.9288 - val_loss: 0.7144 - val_accuracy: 0.8164\n",
            "Epoch 64/100\n",
            "8/8 [==============================] - 25s 3s/step - loss: 0.3051 - accuracy: 0.8776 - val_loss: 1.7616 - val_accuracy: 0.6758\n",
            "Epoch 65/100\n",
            "8/8 [==============================] - 25s 3s/step - loss: 0.1525 - accuracy: 0.9444 - val_loss: 2.2171 - val_accuracy: 0.6719\n",
            "Epoch 66/100\n",
            "8/8 [==============================] - 27s 3s/step - loss: 0.2052 - accuracy: 0.9111 - val_loss: 1.2415 - val_accuracy: 0.7344\n",
            "Epoch 67/100\n",
            "8/8 [==============================] - 24s 3s/step - loss: 0.2103 - accuracy: 0.9188 - val_loss: 4.0150 - val_accuracy: 0.5273\n",
            "Epoch 68/100\n",
            "8/8 [==============================] - 24s 3s/step - loss: 0.1821 - accuracy: 0.9321 - val_loss: 2.9034 - val_accuracy: 0.6133\n",
            "Epoch 69/100\n",
            "8/8 [==============================] - 24s 3s/step - loss: 0.1963 - accuracy: 0.9244 - val_loss: 1.5341 - val_accuracy: 0.7148\n",
            "Epoch 70/100\n",
            "8/8 [==============================] - 24s 3s/step - loss: 0.1429 - accuracy: 0.9477 - val_loss: 1.1317 - val_accuracy: 0.7656\n",
            "Epoch 71/100\n",
            "8/8 [==============================] - 24s 3s/step - loss: 0.2519 - accuracy: 0.9110 - val_loss: 2.1002 - val_accuracy: 0.6680\n",
            "Epoch 72/100\n",
            "8/8 [==============================] - 24s 3s/step - loss: 0.1855 - accuracy: 0.9299 - val_loss: 1.3293 - val_accuracy: 0.7188\n",
            "Epoch 73/100\n",
            "8/8 [==============================] - 24s 3s/step - loss: 0.1737 - accuracy: 0.9321 - val_loss: 2.0117 - val_accuracy: 0.6836\n",
            "Epoch 74/100\n",
            "8/8 [==============================] - 24s 3s/step - loss: 0.1938 - accuracy: 0.9288 - val_loss: 1.8090 - val_accuracy: 0.6875\n",
            "Epoch 75/100\n",
            "8/8 [==============================] - 24s 3s/step - loss: 0.1190 - accuracy: 0.9633 - val_loss: 2.8794 - val_accuracy: 0.6328\n",
            "Epoch 76/100\n",
            "8/8 [==============================] - 24s 3s/step - loss: 0.1985 - accuracy: 0.9255 - val_loss: 0.6955 - val_accuracy: 0.8281\n",
            "Epoch 77/100\n",
            "8/8 [==============================] - 27s 3s/step - loss: 0.1528 - accuracy: 0.9463 - val_loss: 2.4230 - val_accuracy: 0.6602\n",
            "Epoch 78/100\n",
            "8/8 [==============================] - 26s 3s/step - loss: 0.1252 - accuracy: 0.9580 - val_loss: 2.5272 - val_accuracy: 0.6523\n",
            "Epoch 79/100\n",
            "8/8 [==============================] - 26s 3s/step - loss: 0.1614 - accuracy: 0.9365 - val_loss: 1.8355 - val_accuracy: 0.6914\n",
            "Epoch 80/100\n",
            "8/8 [==============================] - 24s 3s/step - loss: 0.1687 - accuracy: 0.9277 - val_loss: 1.3510 - val_accuracy: 0.7461\n",
            "Epoch 81/100\n",
            "8/8 [==============================] - 24s 3s/step - loss: 0.2321 - accuracy: 0.9166 - val_loss: 2.8823 - val_accuracy: 0.6367\n",
            "Epoch 82/100\n",
            "8/8 [==============================] - 24s 3s/step - loss: 0.1703 - accuracy: 0.9344 - val_loss: 2.6352 - val_accuracy: 0.6484\n",
            "Epoch 83/100\n",
            "8/8 [==============================] - 27s 3s/step - loss: 0.1576 - accuracy: 0.9434 - val_loss: 1.7557 - val_accuracy: 0.7109\n",
            "Epoch 84/100\n",
            "8/8 [==============================] - 27s 3s/step - loss: 0.1273 - accuracy: 0.9463 - val_loss: 1.7569 - val_accuracy: 0.7148\n",
            "Epoch 85/100\n",
            "8/8 [==============================] - 24s 3s/step - loss: 0.1583 - accuracy: 0.9410 - val_loss: 2.9097 - val_accuracy: 0.6367\n",
            "Epoch 86/100\n",
            "8/8 [==============================] - 23s 3s/step - loss: 0.3155 - accuracy: 0.9021 - val_loss: 2.7790 - val_accuracy: 0.6406\n",
            "Epoch 87/100\n",
            "8/8 [==============================] - 23s 3s/step - loss: 0.1186 - accuracy: 0.9499 - val_loss: 2.3980 - val_accuracy: 0.6719\n",
            "Epoch 88/100\n",
            "8/8 [==============================] - 23s 3s/step - loss: 0.1405 - accuracy: 0.9544 - val_loss: 1.8589 - val_accuracy: 0.6992\n",
            "Epoch 89/100\n",
            "8/8 [==============================] - 23s 3s/step - loss: 0.1444 - accuracy: 0.9422 - val_loss: 2.3352 - val_accuracy: 0.6758\n",
            "Epoch 90/100\n",
            "8/8 [==============================] - 24s 3s/step - loss: 0.1545 - accuracy: 0.9366 - val_loss: 3.6032 - val_accuracy: 0.5938\n",
            "Epoch 91/100\n",
            "8/8 [==============================] - 24s 3s/step - loss: 0.1262 - accuracy: 0.9611 - val_loss: 1.9905 - val_accuracy: 0.7031\n",
            "Epoch 92/100\n",
            "8/8 [==============================] - 26s 3s/step - loss: 0.1765 - accuracy: 0.9248 - val_loss: 1.4569 - val_accuracy: 0.7266\n",
            "Epoch 93/100\n",
            "8/8 [==============================] - 24s 3s/step - loss: 0.1012 - accuracy: 0.9700 - val_loss: 1.9661 - val_accuracy: 0.7266\n",
            "Epoch 94/100\n",
            "8/8 [==============================] - 24s 3s/step - loss: 0.1649 - accuracy: 0.9433 - val_loss: 3.2549 - val_accuracy: 0.6445\n",
            "Epoch 95/100\n",
            "8/8 [==============================] - 24s 3s/step - loss: 0.1234 - accuracy: 0.9533 - val_loss: 3.3616 - val_accuracy: 0.6328\n",
            "Epoch 96/100\n",
            "8/8 [==============================] - 25s 3s/step - loss: 0.1423 - accuracy: 0.9399 - val_loss: 1.5496 - val_accuracy: 0.7422\n",
            "Epoch 97/100\n",
            "8/8 [==============================] - 25s 3s/step - loss: 0.1364 - accuracy: 0.9488 - val_loss: 2.2944 - val_accuracy: 0.6719\n",
            "Epoch 98/100\n",
            "8/8 [==============================] - 24s 3s/step - loss: 0.2086 - accuracy: 0.9210 - val_loss: 1.9318 - val_accuracy: 0.6797\n",
            "Epoch 99/100\n",
            "8/8 [==============================] - 24s 3s/step - loss: 0.1148 - accuracy: 0.9655 - val_loss: 2.3392 - val_accuracy: 0.6836\n",
            "Epoch 100/100\n",
            "8/8 [==============================] - 24s 3s/step - loss: 0.1029 - accuracy: 0.9700 - val_loss: 2.7858 - val_accuracy: 0.6562\n"
          ]
        }
      ]
    },
    {
      "cell_type": "code",
      "metadata": {
        "id": "7zNPRWOVJdOH",
        "outputId": "762d2a5d-d9c9-49c7-b13d-024af61e550d",
        "colab": {
          "base_uri": "https://localhost:8080/",
          "height": 545
        }
      },
      "source": [
        "import matplotlib.pyplot as plt\n",
        "acc = history.history['accuracy']\n",
        "val_acc = history.history['val_accuracy']\n",
        "loss = history.history['loss']\n",
        "val_loss = history.history['val_loss']\n",
        "\n",
        "epochs = range(len(acc))\n",
        "\n",
        "plt.plot(epochs, acc, 'r', label='Training accuracy')\n",
        "plt.plot(epochs, val_acc, 'b', label='Validation accuracy')\n",
        "plt.title('Training and validation accuracy')\n",
        "\n",
        "plt.figure()\n",
        "\n",
        "plt.plot(epochs, loss, 'r', label='Training Loss')\n",
        "plt.plot(epochs, val_loss, 'b', label='Validation Loss')\n",
        "plt.title('Training and validation loss')\n",
        "plt.legend()\n",
        "\n",
        "plt.show()"
      ],
      "execution_count": 7,
      "outputs": [
        {
          "output_type": "display_data",
          "data": {
            "image/png": "[encoded data removed]",
            "text/plain": [
              "<Figure size 432x288 with 1 Axes>"
            ]
          },
          "metadata": {
            "needs_background": "light"
          }
        },
        {
          "output_type": "display_data",
          "data": {
            "image/png": "[encoded data removed]",
            "text/plain": [
              "<Figure size 432x288 with 1 Axes>"
            ]
          },
          "metadata": {
            "needs_background": "light"
          }
        }
      ]
    }
  ]
}