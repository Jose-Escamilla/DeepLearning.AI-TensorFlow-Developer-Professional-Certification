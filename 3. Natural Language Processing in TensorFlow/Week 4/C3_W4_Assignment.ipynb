{
  "nbformat": 4,
  "nbformat_minor": 0,
  "metadata": {
    "accelerator": "GPU",
    "colab": {
      "name": "C3_W4_Assignment.ipynb",
      "provenance": [],
      "toc_visible": true
    },
    "kernelspec": {
      "display_name": "Python 3",
      "language": "python",
      "name": "python3"
    },
    "language_info": {
      "codemirror_mode": {
        "name": "ipython",
        "version": 3
      },
      "file_extension": ".py",
      "mimetype": "text/x-python",
      "name": "python",
      "nbconvert_exporter": "python",
      "pygments_lexer": "ipython3",
      "version": "3.8.5"
    }
  },
  "cells": [
    {
      "cell_type": "code",
      "metadata": {
        "id": "T2XpcPvbXalN"
      },
      "source": [
        "#@title Licensed under the Apache License, Version 2.0 (the \"License\");\n",
        "# you may not use this file except in compliance with the License.\n",
        "# You may obtain a copy of the License at\n",
        "#\n",
        "# https://www.apache.org/licenses/LICENSE-2.0\n",
        "#\n",
        "# Unless required by applicable law or agreed to in writing, software\n",
        "# distributed under the License is distributed on an \"AS IS\" BASIS,\n",
        "# WITHOUT WARRANTIES OR CONDITIONS OF ANY KIND, either express or implied.\n",
        "# See the License for the specific language governing permissions and\n",
        "# limitations under the License."
      ],
      "execution_count": 1,
      "outputs": []
    },
    {
      "cell_type": "markdown",
      "metadata": {
        "id": "eK88h3Y5XalO"
      },
      "source": [
        "**Note:** This notebook can run using TensorFlow 2.5.0"
      ]
    },
    {
      "cell_type": "code",
      "metadata": {
        "id": "zX4Kg8DUTKWO"
      },
      "source": [
        "#!pip install tensorflow==2.5.0"
      ],
      "execution_count": 2,
      "outputs": []
    },
    {
      "cell_type": "code",
      "metadata": {
        "id": "BOwsuGQQY9OL"
      },
      "source": [
        "from tensorflow.keras.preprocessing.sequence import pad_sequences\n",
        "from tensorflow.keras.layers import Embedding, LSTM, Dense, Dropout, Bidirectional\n",
        "from tensorflow.keras.preprocessing.text import Tokenizer\n",
        "from tensorflow.keras.models import Sequential\n",
        "from tensorflow.keras.optimizers import Adam\n",
        "### YOUR CODE HERE\n",
        "# Figure out how to import regularizers\n",
        "from tensorflow.keras import regularizers\n",
        "###\n",
        "import tensorflow.keras.utils as ku \n",
        "import numpy as np "
      ],
      "execution_count": 3,
      "outputs": []
    },
    {
      "cell_type": "code",
      "metadata": {
        "id": "PRnDnCW-Z7qv",
        "outputId": "b839d592-94de-4ab4-cd5c-b62e46beb920",
        "colab": {
          "base_uri": "https://localhost:8080/"
        }
      },
      "source": [
        "tokenizer = Tokenizer()\n",
        "\n",
        "# sonnets.txt\n",
        "!gdown --id 108jAePKK4R3BVYBbYJZ32JWUwxeMg20K\n",
        "\n",
        "data = open('./sonnets.txt').read()\n",
        "\n",
        "corpus = data.lower().split(\"\\n\")\n",
        "\n",
        "\n",
        "tokenizer.fit_on_texts(corpus)\n",
        "total_words = len(tokenizer.word_index) + 1\n",
        "\n",
        "# create input sequences using list of tokens\n",
        "input_sequences = []\n",
        "for line in corpus:\n",
        "\ttoken_list = tokenizer.texts_to_sequences([line])[0]\n",
        "\tfor i in range(1, len(token_list)):\n",
        "\t\tn_gram_sequence = token_list[:i+1]\n",
        "\t\tinput_sequences.append(n_gram_sequence)\n",
        "\n",
        "\n",
        "# pad sequences \n",
        "max_sequence_len = max([len(x) for x in input_sequences])\n",
        "input_sequences = np.array(pad_sequences(input_sequences, maxlen=max_sequence_len, padding='pre'))\n",
        "\n",
        "# create predictors and label\n",
        "predictors, label = input_sequences[:,:-1],input_sequences[:,-1]\n",
        "\n",
        "label = ku.to_categorical(label, num_classes=total_words)"
      ],
      "execution_count": 4,
      "outputs": [
        {
          "output_type": "stream",
          "name": "stdout",
          "text": [
            "Downloading...\n",
            "From: https://drive.google.com/uc?id=108jAePKK4R3BVYBbYJZ32JWUwxeMg20K\n",
            "To: /content/sonnets.txt\n",
            "\r  0% 0.00/93.6k [00:00<?, ?B/s]\r100% 93.6k/93.6k [00:00<00:00, 86.6MB/s]\n"
          ]
        }
      ]
    },
    {
      "cell_type": "code",
      "metadata": {
        "id": "w9vH8Y59ajYL",
        "outputId": "36c29173-f4d7-4c0c-f5ec-1ba03773843a",
        "colab": {
          "base_uri": "https://localhost:8080/"
        }
      },
      "source": [
        "### START CODE HERE\n",
        "model = Sequential()\n",
        "model.add(Embedding(total_words, 100,input_length=max_sequence_len-1)) # Your Embedding Layer)\n",
        "model.add(Bidirectional(LSTM(64,return_sequences=True))) # An LSTM Layer)\n",
        "model.add(Dropout(0.2)) # A dropout layer)\n",
        "model.add(LSTM(32)) # Another LSTM Layer)\n",
        "model.add(Dense(total_words/2, activation='relu',kernel_regularizer=regularizers.l2(0.01))) # A Dense Layer including regularizers)\n",
        "model.add(Dense(total_words, activation='softmax')) # A Dense Layer)\n",
        "# Pick an optimizer\n",
        "model.compile(loss='categorical_crossentropy', optimizer='adam', metrics=['accuracy']) # Pick a loss function and an optimizer)\n",
        "### END CODE HERE\n",
        "    \n",
        "print(model.summary())"
      ],
      "execution_count": 5,
      "outputs": [
        {
          "output_type": "stream",
          "name": "stdout",
          "text": [
            "Model: \"sequential\"\n",
            "_________________________________________________________________\n",
            " Layer (type)                Output Shape              Param #   \n",
            "=================================================================\n",
            " embedding (Embedding)       (None, 10, 100)           321100    \n",
            "                                                                 \n",
            " bidirectional (Bidirectiona  (None, 10, 128)          84480     \n",
            " l)                                                              \n",
            "                                                                 \n",
            " dropout (Dropout)           (None, 10, 128)           0         \n",
            "                                                                 \n",
            " lstm_1 (LSTM)               (None, 32)                20608     \n",
            "                                                                 \n",
            " dense (Dense)               (None, 1605)              52965     \n",
            "                                                                 \n",
            " dense_1 (Dense)             (None, 3211)              5156866   \n",
            "                                                                 \n",
            "=================================================================\n",
            "Total params: 5,636,019\n",
            "Trainable params: 5,636,019\n",
            "Non-trainable params: 0\n",
            "_________________________________________________________________\n",
            "None\n"
          ]
        }
      ]
    },
    {
      "cell_type": "code",
      "metadata": {
        "id": "AIg2f1HBxqof",
        "outputId": "93d3882a-8067-4627-9779-11a8b780bba7",
        "colab": {
          "base_uri": "https://localhost:8080/"
        }
      },
      "source": [
        " history = model.fit(predictors, label, epochs=100, verbose=1)"
      ],
      "execution_count": 6,
      "outputs": [
        {
          "output_type": "stream",
          "name": "stdout",
          "text": [
            "Epoch 1/100\n",
            "484/484 [==============================] - 16s 9ms/step - loss: 6.8674 - accuracy: 0.0217\n",
            "Epoch 2/100\n",
            "484/484 [==============================] - 5s 9ms/step - loss: 6.5028 - accuracy: 0.0229\n",
            "Epoch 3/100\n",
            "484/484 [==============================] - 4s 9ms/step - loss: 6.3935 - accuracy: 0.0247\n",
            "Epoch 4/100\n",
            "484/484 [==============================] - 4s 9ms/step - loss: 6.2686 - accuracy: 0.0293\n",
            "Epoch 5/100\n",
            "484/484 [==============================] - 4s 9ms/step - loss: 6.1798 - accuracy: 0.0340\n",
            "Epoch 6/100\n",
            "484/484 [==============================] - 5s 9ms/step - loss: 6.1026 - accuracy: 0.0377\n",
            "Epoch 7/100\n",
            "484/484 [==============================] - 5s 10ms/step - loss: 6.0363 - accuracy: 0.0387\n",
            "Epoch 8/100\n",
            "484/484 [==============================] - 4s 9ms/step - loss: 5.9674 - accuracy: 0.0426\n",
            "Epoch 9/100\n",
            "484/484 [==============================] - 5s 9ms/step - loss: 5.8994 - accuracy: 0.0460\n",
            "Epoch 10/100\n",
            "484/484 [==============================] - 5s 9ms/step - loss: 5.8233 - accuracy: 0.0497\n",
            "Epoch 11/100\n",
            "484/484 [==============================] - 5s 11ms/step - loss: 5.7398 - accuracy: 0.0539\n",
            "Epoch 12/100\n",
            "484/484 [==============================] - 5s 11ms/step - loss: 5.6482 - accuracy: 0.0578\n",
            "Epoch 13/100\n",
            "484/484 [==============================] - 5s 9ms/step - loss: 5.5541 - accuracy: 0.0636\n",
            "Epoch 14/100\n",
            "484/484 [==============================] - 5s 9ms/step - loss: 5.4684 - accuracy: 0.0671\n",
            "Epoch 15/100\n",
            "484/484 [==============================] - 4s 9ms/step - loss: 5.3843 - accuracy: 0.0741\n",
            "Epoch 16/100\n",
            "484/484 [==============================] - 4s 9ms/step - loss: 5.2993 - accuracy: 0.0799\n",
            "Epoch 17/100\n",
            "484/484 [==============================] - 4s 9ms/step - loss: 5.2195 - accuracy: 0.0838\n",
            "Epoch 18/100\n",
            "484/484 [==============================] - 4s 9ms/step - loss: 5.1406 - accuracy: 0.0924\n",
            "Epoch 19/100\n",
            "484/484 [==============================] - 4s 9ms/step - loss: 5.0549 - accuracy: 0.0992\n",
            "Epoch 20/100\n",
            "484/484 [==============================] - 5s 10ms/step - loss: 4.9693 - accuracy: 0.1030\n",
            "Epoch 21/100\n",
            "484/484 [==============================] - 5s 9ms/step - loss: 4.8883 - accuracy: 0.1123\n",
            "Epoch 22/100\n",
            "484/484 [==============================] - 4s 9ms/step - loss: 4.8139 - accuracy: 0.1178\n",
            "Epoch 23/100\n",
            "484/484 [==============================] - 4s 9ms/step - loss: 4.7318 - accuracy: 0.1237\n",
            "Epoch 24/100\n",
            "484/484 [==============================] - 4s 9ms/step - loss: 4.6551 - accuracy: 0.1308\n",
            "Epoch 25/100\n",
            "484/484 [==============================] - 5s 9ms/step - loss: 4.5754 - accuracy: 0.1414\n",
            "Epoch 26/100\n",
            "484/484 [==============================] - 4s 9ms/step - loss: 4.4960 - accuracy: 0.1460\n",
            "Epoch 27/100\n",
            "484/484 [==============================] - 5s 9ms/step - loss: 4.4269 - accuracy: 0.1553\n",
            "Epoch 28/100\n",
            "484/484 [==============================] - 6s 12ms/step - loss: 4.3567 - accuracy: 0.1610\n",
            "Epoch 29/100\n",
            "484/484 [==============================] - 5s 9ms/step - loss: 4.2828 - accuracy: 0.1645\n",
            "Epoch 30/100\n",
            "484/484 [==============================] - 4s 9ms/step - loss: 4.2204 - accuracy: 0.1768\n",
            "Epoch 31/100\n",
            "484/484 [==============================] - 4s 9ms/step - loss: 4.1482 - accuracy: 0.1845\n",
            "Epoch 32/100\n",
            "484/484 [==============================] - 4s 9ms/step - loss: 4.0792 - accuracy: 0.1921\n",
            "Epoch 33/100\n",
            "484/484 [==============================] - 4s 9ms/step - loss: 4.0140 - accuracy: 0.2034\n",
            "Epoch 34/100\n",
            "484/484 [==============================] - 4s 9ms/step - loss: 3.9498 - accuracy: 0.2140\n",
            "Epoch 35/100\n",
            "484/484 [==============================] - 5s 9ms/step - loss: 3.8918 - accuracy: 0.2236\n",
            "Epoch 36/100\n",
            "484/484 [==============================] - 4s 9ms/step - loss: 3.8362 - accuracy: 0.2301\n",
            "Epoch 37/100\n",
            "484/484 [==============================] - 4s 9ms/step - loss: 3.7699 - accuracy: 0.2454\n",
            "Epoch 38/100\n",
            "484/484 [==============================] - 4s 9ms/step - loss: 3.7213 - accuracy: 0.2537\n",
            "Epoch 39/100\n",
            "484/484 [==============================] - 4s 9ms/step - loss: 3.6664 - accuracy: 0.2622\n",
            "Epoch 40/100\n",
            "484/484 [==============================] - 4s 9ms/step - loss: 3.6083 - accuracy: 0.2736\n",
            "Epoch 41/100\n",
            "484/484 [==============================] - 5s 9ms/step - loss: 3.5600 - accuracy: 0.2856\n",
            "Epoch 42/100\n",
            "484/484 [==============================] - 4s 9ms/step - loss: 3.5055 - accuracy: 0.2945\n",
            "Epoch 43/100\n",
            "484/484 [==============================] - 5s 9ms/step - loss: 3.4510 - accuracy: 0.3066\n",
            "Epoch 44/100\n",
            "484/484 [==============================] - 4s 9ms/step - loss: 3.4081 - accuracy: 0.3121\n",
            "Epoch 45/100\n",
            "484/484 [==============================] - 4s 9ms/step - loss: 3.3601 - accuracy: 0.3248\n",
            "Epoch 46/100\n",
            "484/484 [==============================] - 5s 9ms/step - loss: 3.3199 - accuracy: 0.3344\n",
            "Epoch 47/100\n",
            "484/484 [==============================] - 4s 9ms/step - loss: 3.2783 - accuracy: 0.3364\n",
            "Epoch 48/100\n",
            "484/484 [==============================] - 5s 9ms/step - loss: 3.2320 - accuracy: 0.3521\n",
            "Epoch 49/100\n",
            "484/484 [==============================] - 4s 9ms/step - loss: 3.1825 - accuracy: 0.3623\n",
            "Epoch 50/100\n",
            "484/484 [==============================] - 5s 9ms/step - loss: 3.1467 - accuracy: 0.3660\n",
            "Epoch 51/100\n",
            "484/484 [==============================] - 4s 9ms/step - loss: 3.1098 - accuracy: 0.3749\n",
            "Epoch 52/100\n",
            "484/484 [==============================] - 4s 9ms/step - loss: 3.0625 - accuracy: 0.3855\n",
            "Epoch 53/100\n",
            "484/484 [==============================] - 4s 9ms/step - loss: 3.0317 - accuracy: 0.3960\n",
            "Epoch 54/100\n",
            "484/484 [==============================] - 4s 9ms/step - loss: 2.9941 - accuracy: 0.4001\n",
            "Epoch 55/100\n",
            "484/484 [==============================] - 4s 9ms/step - loss: 2.9524 - accuracy: 0.4050\n",
            "Epoch 56/100\n",
            "484/484 [==============================] - 4s 9ms/step - loss: 2.9131 - accuracy: 0.4137\n",
            "Epoch 57/100\n",
            "484/484 [==============================] - 5s 9ms/step - loss: 2.8773 - accuracy: 0.4253\n",
            "Epoch 58/100\n",
            "484/484 [==============================] - 5s 9ms/step - loss: 2.8451 - accuracy: 0.4327\n",
            "Epoch 59/100\n",
            "484/484 [==============================] - 4s 9ms/step - loss: 2.8171 - accuracy: 0.4366\n",
            "Epoch 60/100\n",
            "484/484 [==============================] - 4s 9ms/step - loss: 2.7905 - accuracy: 0.4411\n",
            "Epoch 61/100\n",
            "484/484 [==============================] - 5s 9ms/step - loss: 2.7553 - accuracy: 0.4468\n",
            "Epoch 62/100\n",
            "484/484 [==============================] - 4s 9ms/step - loss: 2.7132 - accuracy: 0.4583\n",
            "Epoch 63/100\n",
            "484/484 [==============================] - 5s 9ms/step - loss: 2.6845 - accuracy: 0.4648\n",
            "Epoch 64/100\n",
            "484/484 [==============================] - 4s 9ms/step - loss: 2.6642 - accuracy: 0.4703\n",
            "Epoch 65/100\n",
            "484/484 [==============================] - 5s 9ms/step - loss: 2.6385 - accuracy: 0.4717\n",
            "Epoch 66/100\n",
            "484/484 [==============================] - 5s 9ms/step - loss: 2.6043 - accuracy: 0.4824\n",
            "Epoch 67/100\n",
            "484/484 [==============================] - 4s 9ms/step - loss: 2.5766 - accuracy: 0.4864\n",
            "Epoch 68/100\n",
            "484/484 [==============================] - 4s 9ms/step - loss: 2.5495 - accuracy: 0.4897\n",
            "Epoch 69/100\n",
            "484/484 [==============================] - 4s 9ms/step - loss: 2.5261 - accuracy: 0.4973\n",
            "Epoch 70/100\n",
            "484/484 [==============================] - 4s 9ms/step - loss: 2.5016 - accuracy: 0.5016\n",
            "Epoch 71/100\n",
            "484/484 [==============================] - 4s 9ms/step - loss: 2.4640 - accuracy: 0.5105\n",
            "Epoch 72/100\n",
            "484/484 [==============================] - 4s 9ms/step - loss: 2.4471 - accuracy: 0.5177\n",
            "Epoch 73/100\n",
            "484/484 [==============================] - 5s 9ms/step - loss: 2.4116 - accuracy: 0.5233\n",
            "Epoch 74/100\n",
            "484/484 [==============================] - 5s 9ms/step - loss: 2.3764 - accuracy: 0.5311\n",
            "Epoch 75/100\n",
            "484/484 [==============================] - 4s 9ms/step - loss: 2.3494 - accuracy: 0.5353\n",
            "Epoch 76/100\n",
            "484/484 [==============================] - 4s 9ms/step - loss: 2.3452 - accuracy: 0.5363\n",
            "Epoch 77/100\n",
            "484/484 [==============================] - 5s 10ms/step - loss: 2.3362 - accuracy: 0.5378\n",
            "Epoch 78/100\n",
            "484/484 [==============================] - 5s 9ms/step - loss: 2.2989 - accuracy: 0.5492\n",
            "Epoch 79/100\n",
            "484/484 [==============================] - 5s 10ms/step - loss: 2.2705 - accuracy: 0.5545\n",
            "Epoch 80/100\n",
            "484/484 [==============================] - 5s 9ms/step - loss: 2.2528 - accuracy: 0.5570\n",
            "Epoch 81/100\n",
            "484/484 [==============================] - 4s 9ms/step - loss: 2.2362 - accuracy: 0.5576\n",
            "Epoch 82/100\n",
            "484/484 [==============================] - 4s 9ms/step - loss: 2.1994 - accuracy: 0.5675\n",
            "Epoch 83/100\n",
            "484/484 [==============================] - 4s 9ms/step - loss: 2.1837 - accuracy: 0.5708\n",
            "Epoch 84/100\n",
            "484/484 [==============================] - 5s 9ms/step - loss: 2.1754 - accuracy: 0.5720\n",
            "Epoch 85/100\n",
            "484/484 [==============================] - 4s 9ms/step - loss: 2.1518 - accuracy: 0.5786\n",
            "Epoch 86/100\n",
            "484/484 [==============================] - 4s 9ms/step - loss: 2.1283 - accuracy: 0.5868\n",
            "Epoch 87/100\n",
            "484/484 [==============================] - 5s 9ms/step - loss: 2.1032 - accuracy: 0.5902\n",
            "Epoch 88/100\n",
            "484/484 [==============================] - 4s 9ms/step - loss: 2.0845 - accuracy: 0.5915\n",
            "Epoch 89/100\n",
            "484/484 [==============================] - 5s 9ms/step - loss: 2.0715 - accuracy: 0.5989\n",
            "Epoch 90/100\n",
            "484/484 [==============================] - 5s 9ms/step - loss: 2.0484 - accuracy: 0.6012\n",
            "Epoch 91/100\n",
            "484/484 [==============================] - 5s 9ms/step - loss: 2.0358 - accuracy: 0.6047\n",
            "Epoch 92/100\n",
            "484/484 [==============================] - 4s 9ms/step - loss: 2.0165 - accuracy: 0.6074\n",
            "Epoch 93/100\n",
            "484/484 [==============================] - 4s 9ms/step - loss: 1.9955 - accuracy: 0.6155\n",
            "Epoch 94/100\n",
            "484/484 [==============================] - 5s 9ms/step - loss: 1.9927 - accuracy: 0.6098\n",
            "Epoch 95/100\n",
            "484/484 [==============================] - 5s 9ms/step - loss: 1.9637 - accuracy: 0.6185\n",
            "Epoch 96/100\n",
            "484/484 [==============================] - 4s 9ms/step - loss: 1.9480 - accuracy: 0.6217\n",
            "Epoch 97/100\n",
            "484/484 [==============================] - 4s 9ms/step - loss: 1.9426 - accuracy: 0.6229\n",
            "Epoch 98/100\n",
            "484/484 [==============================] - 5s 9ms/step - loss: 1.9071 - accuracy: 0.6303\n",
            "Epoch 99/100\n",
            "484/484 [==============================] - 4s 9ms/step - loss: 1.9002 - accuracy: 0.6315\n",
            "Epoch 100/100\n",
            "484/484 [==============================] - 5s 9ms/step - loss: 1.8725 - accuracy: 0.6414\n"
          ]
        }
      ]
    },
    {
      "cell_type": "code",
      "metadata": {
        "id": "1fXTEO3GJ282",
        "outputId": "e6587482-7758-40e1-9033-9567f7eafc8d",
        "colab": {
          "base_uri": "https://localhost:8080/",
          "height": 545
        }
      },
      "source": [
        "import matplotlib.pyplot as plt\n",
        "acc = history.history['accuracy']\n",
        "loss = history.history['loss']\n",
        "\n",
        "epochs = range(len(acc))\n",
        "\n",
        "plt.plot(epochs, acc, 'b', label='Training accuracy')\n",
        "plt.title('Training accuracy')\n",
        "\n",
        "plt.figure()\n",
        "\n",
        "plt.plot(epochs, loss, 'b', label='Training Loss')\n",
        "plt.title('Training loss')\n",
        "plt.legend()\n",
        "\n",
        "plt.show()"
      ],
      "execution_count": 7,
      "outputs": [
        {
          "output_type": "display_data",
          "data": {
            "image/png": "[encoded data removed]",
            "text/plain": [
              "<Figure size 432x288 with 1 Axes>"
            ]
          },
          "metadata": {
            "needs_background": "light"
          }
        },
        {
          "output_type": "display_data",
          "data": {
            "image/png": "[encoded data removed]",
            "text/plain": [
              "<Figure size 432x288 with 1 Axes>"
            ]
          },
          "metadata": {
            "needs_background": "light"
          }
        }
      ]
    },
    {
      "cell_type": "code",
      "metadata": {
        "id": "6Vc6PHgxa6Hm",
        "outputId": "8e8d9f51-3382-4500-b2d7-7903dee2ff9b",
        "colab": {
          "base_uri": "https://localhost:8080/"
        }
      },
      "source": [
        "seed_text = \"Help me Obi Wan Kenobi, you're my only hope\"\n",
        "next_words = 100\n",
        "  \n",
        "for _ in range(next_words):\n",
        "\ttoken_list = tokenizer.texts_to_sequences([seed_text])[0]\n",
        "\ttoken_list = pad_sequences([token_list], maxlen=max_sequence_len-1, padding='pre')\n",
        "\tpredicted = np.argmax(model.predict(token_list),axis=1)\n",
        "\toutput_word = \"\"\n",
        "\tfor word, index in tokenizer.word_index.items():\n",
        "\t\tif index == predicted:\n",
        "\t\t\toutput_word = word\n",
        "\t\t\tbreak\n",
        "\tseed_text += \" \" + output_word\n",
        "print(seed_text)"
      ],
      "execution_count": 9,
      "outputs": [
        {
          "output_type": "stream",
          "name": "stdout",
          "text": [
            "Help me Obi Wan Kenobi, you're my only hope of approve me heaven live heaven seen shown heaven doth men's ill did express'd remain torn clear ' best still know be free alone abused worms me doth be gone me should wrong new foes commend commend pain be new alone still now good rare alone so false behold find go new torn shown shown shown new delight eyes rare foes bell fitted fitted light light twain torn last still how live so made thee ' true bright his boat deserts asleep indigest indigest dwells untrimm'd staineth torn twain last still so twain prove thee die men seen none renew'd\n"
          ]
        }
      ]
    }
  ]
}