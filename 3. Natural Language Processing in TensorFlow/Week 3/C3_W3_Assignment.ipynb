{
  "nbformat": 4,
  "nbformat_minor": 0,
  "metadata": {
    "accelerator": "GPU",
    "colab": {
      "name": "C3_W3_Assignment.ipynb",
      "provenance": [],
      "toc_visible": true
    },
    "kernelspec": {
      "display_name": "Python 3",
      "language": "python",
      "name": "python3"
    },
    "language_info": {
      "codemirror_mode": {
        "name": "ipython",
        "version": 3
      },
      "file_extension": ".py",
      "mimetype": "text/x-python",
      "name": "python",
      "nbconvert_exporter": "python",
      "pygments_lexer": "ipython3",
      "version": "3.8.5"
    }
  },
  "cells": [
    {
      "cell_type": "code",
      "metadata": {
        "id": "zX4Kg8DUTKWO"
      },
      "source": [
        "#@title Licensed under the Apache License, Version 2.0 (the \"License\");\n",
        "# you may not use this file except in compliance with the License.\n",
        "# You may obtain a copy of the License at\n",
        "#\n",
        "# https://www.apache.org/licenses/LICENSE-2.0\n",
        "#\n",
        "# Unless required by applicable law or agreed to in writing, software\n",
        "# distributed under the License is distributed on an \"AS IS\" BASIS,\n",
        "# WITHOUT WARRANTIES OR CONDITIONS OF ANY KIND, either express or implied.\n",
        "# See the License for the specific language governing permissions and\n",
        "# limitations under the License."
      ],
      "execution_count": 1,
      "outputs": []
    },
    {
      "cell_type": "markdown",
      "metadata": {
        "id": "gnU1TV9kV5f9"
      },
      "source": [
        "**Note:** This notebook can run using TensorFlow 2.5.0"
      ]
    },
    {
      "cell_type": "code",
      "metadata": {
        "id": "qTZDRvo5V5f9"
      },
      "source": [
        "#!pip install tensorflow==2.5.0"
      ],
      "execution_count": 2,
      "outputs": []
    },
    {
      "cell_type": "code",
      "metadata": {
        "id": "hmA6EzkQJ5jt"
      },
      "source": [
        "import json\n",
        "import tensorflow as tf\n",
        "import csv\n",
        "import random\n",
        "import numpy as np\n",
        "\n",
        "from tensorflow.keras.preprocessing.text import Tokenizer\n",
        "from tensorflow.keras.preprocessing.sequence import pad_sequences\n",
        "from tensorflow.keras.utils import to_categorical\n",
        "from tensorflow.keras import regularizers\n",
        "\n",
        "\n",
        "embedding_dim = 100\n",
        "max_length = 16\n",
        "trunc_type='post'\n",
        "padding_type='post'\n",
        "oov_tok = \"<OOV>\"\n",
        "training_size= 160000 #Your dataset size here. Experiment using smaller values (i.e. 16000), but don't forget to train on at least 160000 to see the best effects\n",
        "test_portion=.1\n",
        "\n",
        "corpus = []\n"
      ],
      "execution_count": 4,
      "outputs": []
    },
    {
      "cell_type": "code",
      "metadata": {
        "id": "bM0l_dORKqE0",
        "outputId": "f6609060-fa32-409b-a89d-c4b3b2a27a78",
        "colab": {
          "base_uri": "https://localhost:8080/"
        }
      },
      "source": [
        "# Note that I cleaned the Stanford dataset to remove LATIN1 encoding to make it easier for Python CSV reader\n",
        "# You can do that yourself with:\n",
        "# iconv -f LATIN1 -t UTF8 training.1600000.processed.noemoticon.csv -o training_cleaned.csv\n",
        "\n",
        "# training_cleaned.csv\n",
        "!gdown --id 1wd8KaeCSHxt-nEpMeuHFSNWrDp8joUXJ\n",
        "\n",
        "num_sentences = 0\n",
        "\n",
        "with open(\"./training_cleaned.csv\") as csvfile:\n",
        "    reader = csv.reader(csvfile, delimiter=',')\n",
        "    for row in reader:\n",
        "        list_item=[]\n",
        "        list_item.append(row[5])\n",
        "        this_label=row[0]\n",
        "        if this_label=='0':\n",
        "            list_item.append(0)\n",
        "        else:\n",
        "            list_item.append(1)\n",
        "        \n",
        "        ### START CODE HERE\n",
        "        #Create list items where the first item is the text, found in row[5], and the second is the label. Note that the label is a '0' or a '4' in the text. When it's the former, make\n",
        "        # your label to be 0, otherwise 1. Keep a count of the number of sentences in num_sentences\n",
        "        ### END CODE HERE\n",
        "        \n",
        "        num_sentences = num_sentences + 1\n",
        "        corpus.append(list_item)\n"
      ],
      "execution_count": 5,
      "outputs": [
        {
          "output_type": "stream",
          "name": "stdout",
          "text": [
            "Downloading...\n",
            "From: https://drive.google.com/uc?id=1wd8KaeCSHxt-nEpMeuHFSNWrDp8joUXJ\n",
            "To: /content/training_cleaned.csv\n",
            "100% 239M/239M [00:02<00:00, 98.7MB/s]\n"
          ]
        }
      ]
    },
    {
      "cell_type": "code",
      "metadata": {
        "id": "3kxblBUjEUX-",
        "outputId": "27d26e2e-324d-447d-a255-e0576c6a59f9",
        "colab": {
          "base_uri": "https://localhost:8080/"
        }
      },
      "source": [
        "print(num_sentences)\n",
        "print(len(corpus))\n",
        "print(corpus[1])\n",
        "\n",
        "# Expected Output:\n",
        "# 1600000\n",
        "# 1600000\n",
        "# [\"is upset that he can't update his Facebook by texting it... and might cry as a result  School today also. Blah!\", 0]"
      ],
      "execution_count": 6,
      "outputs": [
        {
          "output_type": "stream",
          "name": "stdout",
          "text": [
            "1600000\n",
            "1600000\n",
            "[\"is upset that he can't update his Facebook by texting it... and might cry as a result  School today also. Blah!\", 0]\n"
          ]
        }
      ]
    },
    {
      "cell_type": "code",
      "metadata": {
        "id": "ohOGz24lsNAD"
      },
      "source": [
        "sentences=[]\n",
        "labels=[]\n",
        "random.shuffle(corpus)\n",
        "for x in range(training_size):\n",
        "    sentences.append(corpus[x][0]) # YOUR CODE HERE\n",
        "    labels.append(corpus[x][1]) # YOUR CODE HERE\n",
        "\n",
        "\n",
        "tokenizer = Tokenizer()\n",
        "tokenizer.fit_on_texts(sentences) # YOUR CODE HERE\n",
        "\n",
        "word_index = tokenizer.word_index\n",
        "vocab_size=len(word_index) # YOUR CODE HERE\n",
        "\n",
        "sequences = tokenizer.texts_to_sequences(sentences) # YOUR CODE HERE\n",
        "padded = pad_sequences(sequences, maxlen=max_length, padding=padding_type, truncating=trunc_type) # YOUR CODE HERE\n",
        "\n",
        "split = int(test_portion * training_size)\n",
        "\n",
        "test_sequences = padded[0:split] # YOUR CODE HERE\n",
        "training_sequences = padded[split:training_size] # YOUR CODE HERE\n",
        "test_labels = labels[0:split] # YOUR CODE HERE\n",
        "training_labels = labels[split:training_size] # YOUR CODE HERE"
      ],
      "execution_count": 8,
      "outputs": []
    },
    {
      "cell_type": "code",
      "metadata": {
        "id": "gIrtRem1En3N",
        "outputId": "3ebcdab7-1a42-401a-8824-6a185bdf8f52",
        "colab": {
          "base_uri": "https://localhost:8080/"
        }
      },
      "source": [
        "print(vocab_size)\n",
        "print(word_index['i'])\n",
        "# Expected Output\n",
        "# 138856\n",
        "# 1"
      ],
      "execution_count": 9,
      "outputs": [
        {
          "output_type": "stream",
          "name": "stdout",
          "text": [
            "138889\n",
            "1\n"
          ]
        }
      ]
    },
    {
      "cell_type": "code",
      "metadata": {
        "id": "C1zdgJkusRh0",
        "outputId": "55348577-4520-408d-bb8e-3d4a45e80e42",
        "colab": {
          "base_uri": "https://localhost:8080/"
        }
      },
      "source": [
        "# Note this is the 100 dimension version of GloVe from Stanford\n",
        "\n",
        "# glove.6B.100d.txt\n",
        "!gdown --id 1W5vZy2etitAblLdFn8_DxnsQKzfFJ98g\n",
        "\n",
        "embeddings_index = {};\n",
        "with open('./glove.6B.100d.txt') as f:\n",
        "    for line in f:\n",
        "        values = line.split();\n",
        "        word = values[0];\n",
        "        coefs = np.asarray(values[1:], dtype='float32');\n",
        "        embeddings_index[word] = coefs;\n",
        "\n",
        "embeddings_matrix = np.zeros((vocab_size+1, embedding_dim));\n",
        "for word, i in word_index.items():\n",
        "    embedding_vector = embeddings_index.get(word);\n",
        "    if embedding_vector is not None:\n",
        "        embeddings_matrix[i] = embedding_vector;"
      ],
      "execution_count": 10,
      "outputs": [
        {
          "output_type": "stream",
          "name": "stdout",
          "text": [
            "Downloading...\n",
            "From: https://drive.google.com/uc?id=1W5vZy2etitAblLdFn8_DxnsQKzfFJ98g\n",
            "To: /content/glove.6B.100d.txt\n",
            "100% 347M/347M [00:02<00:00, 118MB/s]\n"
          ]
        }
      ]
    },
    {
      "cell_type": "code",
      "metadata": {
        "id": "71NLk_lpFLNt",
        "outputId": "635db298-ecf9-4226-fe1a-34afe4bfc92a",
        "colab": {
          "base_uri": "https://localhost:8080/"
        }
      },
      "source": [
        "print(len(embeddings_matrix))\n",
        "# Expected Output\n",
        "# 138857"
      ],
      "execution_count": 11,
      "outputs": [
        {
          "output_type": "stream",
          "name": "stdout",
          "text": [
            "138890\n"
          ]
        }
      ]
    },
    {
      "cell_type": "code",
      "metadata": {
        "id": "iKKvbuEBOGFz",
        "outputId": "e79bedff-eeb1-4b63-c485-e4b2384077a6",
        "colab": {
          "base_uri": "https://localhost:8080/"
        }
      },
      "source": [
        "model = tf.keras.Sequential([\n",
        "    tf.keras.layers.Embedding(vocab_size+1, embedding_dim, input_length=max_length, weights=[embeddings_matrix], trainable=False),\n",
        "    tf.keras.layers.Dropout(0.2),\n",
        "    tf.keras.layers.Conv1D(64, 5, activation='relu'),\n",
        "    tf.keras.layers.MaxPooling1D(pool_size=4),\n",
        "    tf.keras.layers.LSTM(64),\n",
        "    tf.keras.layers.Dense(1, activation='sigmoid')\n",
        "])\n",
        "model.compile(loss='binary_crossentropy',optimizer='adam',metrics=['accuracy'])\n",
        "model.summary()\n",
        "\n",
        "num_epochs = 50\n",
        "\n",
        "training_padded = np.array(training_sequences)\n",
        "training_labels = np.array(training_labels)\n",
        "testing_padded = np.array(test_sequences)\n",
        "testing_labels = np.array(test_labels)\n",
        "\n",
        "history = model.fit(training_padded, training_labels, epochs=num_epochs, validation_data=(testing_padded, testing_labels), verbose=2)\n",
        "\n",
        "print(\"Training Complete\")"
      ],
      "execution_count": 15,
      "outputs": [
        {
          "output_type": "stream",
          "name": "stdout",
          "text": [
            "Model: \"sequential_3\"\n",
            "_________________________________________________________________\n",
            " Layer (type)                Output Shape              Param #   \n",
            "=================================================================\n",
            " embedding_3 (Embedding)     (None, 16, 100)           13889000  \n",
            "                                                                 \n",
            " dropout_3 (Dropout)         (None, 16, 100)           0         \n",
            "                                                                 \n",
            " conv1d_3 (Conv1D)           (None, 12, 64)            32064     \n",
            "                                                                 \n",
            " max_pooling1d_3 (MaxPooling  (None, 3, 64)            0         \n",
            " 1D)                                                             \n",
            "                                                                 \n",
            " lstm_3 (LSTM)               (None, 64)                33024     \n",
            "                                                                 \n",
            " dense_3 (Dense)             (None, 1)                 65        \n",
            "                                                                 \n",
            "=================================================================\n",
            "Total params: 13,954,153\n",
            "Trainable params: 65,153\n",
            "Non-trainable params: 13,889,000\n",
            "_________________________________________________________________\n",
            "Epoch 1/50\n",
            "4500/4500 - 30s - loss: 0.5681 - accuracy: 0.6963 - val_loss: 0.5313 - val_accuracy: 0.7226 - 30s/epoch - 7ms/step\n",
            "Epoch 2/50\n",
            "4500/4500 - 19s - loss: 0.5280 - accuracy: 0.7312 - val_loss: 0.5183 - val_accuracy: 0.7356 - 19s/epoch - 4ms/step\n",
            "Epoch 3/50\n",
            "4500/4500 - 19s - loss: 0.5106 - accuracy: 0.7420 - val_loss: 0.5038 - val_accuracy: 0.7452 - 19s/epoch - 4ms/step\n",
            "Epoch 4/50\n",
            "4500/4500 - 19s - loss: 0.4999 - accuracy: 0.7512 - val_loss: 0.5024 - val_accuracy: 0.7503 - 19s/epoch - 4ms/step\n",
            "Epoch 5/50\n",
            "4500/4500 - 19s - loss: 0.4904 - accuracy: 0.7582 - val_loss: 0.4998 - val_accuracy: 0.7536 - 19s/epoch - 4ms/step\n",
            "Epoch 6/50\n",
            "4500/4500 - 19s - loss: 0.4844 - accuracy: 0.7610 - val_loss: 0.4959 - val_accuracy: 0.7535 - 19s/epoch - 4ms/step\n",
            "Epoch 7/50\n",
            "4500/4500 - 19s - loss: 0.4784 - accuracy: 0.7659 - val_loss: 0.4992 - val_accuracy: 0.7550 - 19s/epoch - 4ms/step\n",
            "Epoch 8/50\n",
            "4500/4500 - 19s - loss: 0.4728 - accuracy: 0.7688 - val_loss: 0.5016 - val_accuracy: 0.7536 - 19s/epoch - 4ms/step\n",
            "Epoch 9/50\n",
            "4500/4500 - 19s - loss: 0.4685 - accuracy: 0.7723 - val_loss: 0.4965 - val_accuracy: 0.7540 - 19s/epoch - 4ms/step\n",
            "Epoch 10/50\n",
            "4500/4500 - 19s - loss: 0.4643 - accuracy: 0.7735 - val_loss: 0.4975 - val_accuracy: 0.7531 - 19s/epoch - 4ms/step\n",
            "Epoch 11/50\n",
            "4500/4500 - 19s - loss: 0.4616 - accuracy: 0.7751 - val_loss: 0.5008 - val_accuracy: 0.7534 - 19s/epoch - 4ms/step\n",
            "Epoch 12/50\n",
            "4500/4500 - 19s - loss: 0.4577 - accuracy: 0.7781 - val_loss: 0.5090 - val_accuracy: 0.7513 - 19s/epoch - 4ms/step\n",
            "Epoch 13/50\n",
            "4500/4500 - 19s - loss: 0.4563 - accuracy: 0.7794 - val_loss: 0.5027 - val_accuracy: 0.7542 - 19s/epoch - 4ms/step\n",
            "Epoch 14/50\n",
            "4500/4500 - 19s - loss: 0.4531 - accuracy: 0.7819 - val_loss: 0.5065 - val_accuracy: 0.7506 - 19s/epoch - 4ms/step\n",
            "Epoch 15/50\n",
            "4500/4500 - 19s - loss: 0.4510 - accuracy: 0.7824 - val_loss: 0.5110 - val_accuracy: 0.7529 - 19s/epoch - 4ms/step\n",
            "Epoch 16/50\n",
            "4500/4500 - 19s - loss: 0.4497 - accuracy: 0.7827 - val_loss: 0.5075 - val_accuracy: 0.7520 - 19s/epoch - 4ms/step\n",
            "Epoch 17/50\n",
            "4500/4500 - 19s - loss: 0.4470 - accuracy: 0.7844 - val_loss: 0.5063 - val_accuracy: 0.7494 - 19s/epoch - 4ms/step\n",
            "Epoch 18/50\n",
            "4500/4500 - 19s - loss: 0.4456 - accuracy: 0.7859 - val_loss: 0.5078 - val_accuracy: 0.7520 - 19s/epoch - 4ms/step\n",
            "Epoch 19/50\n",
            "4500/4500 - 19s - loss: 0.4449 - accuracy: 0.7859 - val_loss: 0.5095 - val_accuracy: 0.7526 - 19s/epoch - 4ms/step\n",
            "Epoch 20/50\n",
            "4500/4500 - 19s - loss: 0.4424 - accuracy: 0.7875 - val_loss: 0.5127 - val_accuracy: 0.7509 - 19s/epoch - 4ms/step\n",
            "Epoch 21/50\n",
            "4500/4500 - 19s - loss: 0.4395 - accuracy: 0.7892 - val_loss: 0.5134 - val_accuracy: 0.7514 - 19s/epoch - 4ms/step\n",
            "Epoch 22/50\n",
            "4500/4500 - 19s - loss: 0.4413 - accuracy: 0.7873 - val_loss: 0.5082 - val_accuracy: 0.7525 - 19s/epoch - 4ms/step\n",
            "Epoch 23/50\n",
            "4500/4500 - 19s - loss: 0.4391 - accuracy: 0.7903 - val_loss: 0.5120 - val_accuracy: 0.7541 - 19s/epoch - 4ms/step\n",
            "Epoch 24/50\n",
            "4500/4500 - 19s - loss: 0.4383 - accuracy: 0.7903 - val_loss: 0.5132 - val_accuracy: 0.7517 - 19s/epoch - 4ms/step\n",
            "Epoch 25/50\n",
            "4500/4500 - 19s - loss: 0.4382 - accuracy: 0.7903 - val_loss: 0.5160 - val_accuracy: 0.7490 - 19s/epoch - 4ms/step\n",
            "Epoch 26/50\n",
            "4500/4500 - 19s - loss: 0.4374 - accuracy: 0.7903 - val_loss: 0.5069 - val_accuracy: 0.7512 - 19s/epoch - 4ms/step\n",
            "Epoch 27/50\n",
            "4500/4500 - 19s - loss: 0.4365 - accuracy: 0.7918 - val_loss: 0.5174 - val_accuracy: 0.7504 - 19s/epoch - 4ms/step\n",
            "Epoch 28/50\n",
            "4500/4500 - 19s - loss: 0.4352 - accuracy: 0.7919 - val_loss: 0.5119 - val_accuracy: 0.7498 - 19s/epoch - 4ms/step\n",
            "Epoch 29/50\n",
            "4500/4500 - 19s - loss: 0.4335 - accuracy: 0.7927 - val_loss: 0.5165 - val_accuracy: 0.7516 - 19s/epoch - 4ms/step\n",
            "Epoch 30/50\n",
            "4500/4500 - 19s - loss: 0.4337 - accuracy: 0.7934 - val_loss: 0.5211 - val_accuracy: 0.7469 - 19s/epoch - 4ms/step\n",
            "Epoch 31/50\n",
            "4500/4500 - 19s - loss: 0.4329 - accuracy: 0.7932 - val_loss: 0.5190 - val_accuracy: 0.7501 - 19s/epoch - 4ms/step\n",
            "Epoch 32/50\n",
            "4500/4500 - 19s - loss: 0.4326 - accuracy: 0.7936 - val_loss: 0.5183 - val_accuracy: 0.7498 - 19s/epoch - 4ms/step\n",
            "Epoch 33/50\n",
            "4500/4500 - 19s - loss: 0.4329 - accuracy: 0.7945 - val_loss: 0.5194 - val_accuracy: 0.7496 - 19s/epoch - 4ms/step\n",
            "Epoch 34/50\n",
            "4500/4500 - 19s - loss: 0.4314 - accuracy: 0.7939 - val_loss: 0.5210 - val_accuracy: 0.7494 - 19s/epoch - 4ms/step\n",
            "Epoch 35/50\n",
            "4500/4500 - 19s - loss: 0.4308 - accuracy: 0.7943 - val_loss: 0.5221 - val_accuracy: 0.7471 - 19s/epoch - 4ms/step\n",
            "Epoch 36/50\n",
            "4500/4500 - 19s - loss: 0.4311 - accuracy: 0.7947 - val_loss: 0.5165 - val_accuracy: 0.7499 - 19s/epoch - 4ms/step\n",
            "Epoch 37/50\n",
            "4500/4500 - 19s - loss: 0.4309 - accuracy: 0.7954 - val_loss: 0.5148 - val_accuracy: 0.7513 - 19s/epoch - 4ms/step\n",
            "Epoch 38/50\n",
            "4500/4500 - 19s - loss: 0.4303 - accuracy: 0.7948 - val_loss: 0.5117 - val_accuracy: 0.7522 - 19s/epoch - 4ms/step\n",
            "Epoch 39/50\n",
            "4500/4500 - 19s - loss: 0.4306 - accuracy: 0.7954 - val_loss: 0.5171 - val_accuracy: 0.7498 - 19s/epoch - 4ms/step\n",
            "Epoch 40/50\n",
            "4500/4500 - 19s - loss: 0.4297 - accuracy: 0.7956 - val_loss: 0.5155 - val_accuracy: 0.7532 - 19s/epoch - 4ms/step\n",
            "Epoch 41/50\n",
            "4500/4500 - 19s - loss: 0.4292 - accuracy: 0.7945 - val_loss: 0.5170 - val_accuracy: 0.7515 - 19s/epoch - 4ms/step\n",
            "Epoch 42/50\n",
            "4500/4500 - 19s - loss: 0.4295 - accuracy: 0.7958 - val_loss: 0.5137 - val_accuracy: 0.7548 - 19s/epoch - 4ms/step\n",
            "Epoch 43/50\n",
            "4500/4500 - 19s - loss: 0.4282 - accuracy: 0.7967 - val_loss: 0.5205 - val_accuracy: 0.7526 - 19s/epoch - 4ms/step\n",
            "Epoch 44/50\n",
            "4500/4500 - 18s - loss: 0.4282 - accuracy: 0.7957 - val_loss: 0.5210 - val_accuracy: 0.7506 - 18s/epoch - 4ms/step\n",
            "Epoch 45/50\n",
            "4500/4500 - 19s - loss: 0.4262 - accuracy: 0.7983 - val_loss: 0.5199 - val_accuracy: 0.7506 - 19s/epoch - 4ms/step\n",
            "Epoch 46/50\n",
            "4500/4500 - 18s - loss: 0.4290 - accuracy: 0.7952 - val_loss: 0.5201 - val_accuracy: 0.7483 - 18s/epoch - 4ms/step\n",
            "Epoch 47/50\n",
            "4500/4500 - 19s - loss: 0.4277 - accuracy: 0.7967 - val_loss: 0.5185 - val_accuracy: 0.7515 - 19s/epoch - 4ms/step\n",
            "Epoch 48/50\n",
            "4500/4500 - 19s - loss: 0.4271 - accuracy: 0.7975 - val_loss: 0.5214 - val_accuracy: 0.7542 - 19s/epoch - 4ms/step\n",
            "Epoch 49/50\n",
            "4500/4500 - 19s - loss: 0.4265 - accuracy: 0.7970 - val_loss: 0.5242 - val_accuracy: 0.7518 - 19s/epoch - 4ms/step\n",
            "Epoch 50/50\n",
            "4500/4500 - 19s - loss: 0.4280 - accuracy: 0.7962 - val_loss: 0.5210 - val_accuracy: 0.7511 - 19s/epoch - 4ms/step\n",
            "Training Complete\n"
          ]
        }
      ]
    },
    {
      "cell_type": "code",
      "metadata": {
        "id": "qxju4ItJKO8F",
        "outputId": "f89a857f-5d25-4af4-f859-5644156f055a",
        "colab": {
          "base_uri": "https://localhost:8080/",
          "height": 610
        }
      },
      "source": [
        "import matplotlib.image  as mpimg\n",
        "import matplotlib.pyplot as plt\n",
        "\n",
        "#-----------------------------------------------------------\n",
        "# Retrieve a list of list results on training and test data\n",
        "# sets for each training epoch\n",
        "#-----------------------------------------------------------\n",
        "acc=history.history['accuracy']\n",
        "val_acc=history.history['val_accuracy']\n",
        "loss=history.history['loss']\n",
        "val_loss=history.history['val_loss']\n",
        "\n",
        "epochs=range(len(acc)) # Get number of epochs\n",
        "\n",
        "#------------------------------------------------\n",
        "# Plot training and validation accuracy per epoch\n",
        "#------------------------------------------------\n",
        "plt.plot(epochs, acc, 'r')\n",
        "plt.plot(epochs, val_acc, 'b')\n",
        "plt.title('Training and validation accuracy')\n",
        "plt.xlabel(\"Epochs\")\n",
        "plt.ylabel(\"Accuracy\")\n",
        "plt.legend([\"Accuracy\", \"Validation Accuracy\"])\n",
        "\n",
        "plt.figure()\n",
        "\n",
        "#------------------------------------------------\n",
        "# Plot training and validation loss per epoch\n",
        "#------------------------------------------------\n",
        "plt.plot(epochs, loss, 'r')\n",
        "plt.plot(epochs, val_loss, 'b')\n",
        "plt.title('Training and validation loss')\n",
        "plt.xlabel(\"Epochs\")\n",
        "plt.ylabel(\"Loss\")\n",
        "plt.legend([\"Loss\", \"Validation Loss\"])\n",
        "\n",
        "plt.figure()\n",
        "\n",
        "\n",
        "# Expected Output\n",
        "# A chart where the validation loss does not increase sharply!"
      ],
      "execution_count": 16,
      "outputs": [
        {
          "output_type": "execute_result",
          "data": {
            "text/plain": [
              "<Figure size 432x288 with 0 Axes>"
            ]
          },
          "metadata": {},
          "execution_count": 16
        },
        {
          "output_type": "display_data",
          "data": {
            "image/png": "[encoded data removed]",
            "text/plain": [
              "<Figure size 432x288 with 1 Axes>"
            ]
          },
          "metadata": {
            "needs_background": "light"
          }
        },
        {
          "output_type": "display_data",
          "data": {
            "image/png": "[encoded data removed]",
            "text/plain": [
              "<Figure size 432x288 with 1 Axes>"
            ]
          },
          "metadata": {
            "needs_background": "light"
          }
        },
        {
          "output_type": "display_data",
          "data": {
            "text/plain": [
              "<Figure size 432x288 with 0 Axes>"
            ]
          },
          "metadata": {}
        }
      ]
    }
  ]
}